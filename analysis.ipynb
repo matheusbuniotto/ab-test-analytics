{
 "cells": [
  {
   "cell_type": "code",
   "execution_count": 1,
   "metadata": {},
   "outputs": [],
   "source": [
    "# importando as libs \n",
    "import pandas as pd\n",
    "import numpy as np\n",
    "from ab_utils import srm_test, calculate_ci, perform_ab_test_analysis\n",
    "\n",
    "from scipy import stats\n",
    "#import statsmodels.api as sm\n",
    "\n",
    "import seaborn as sns\n",
    "import matplotlib.pyplot as plt\n",
    "%matplotlib inline"
   ]
  },
  {
   "attachments": {},
   "cell_type": "markdown",
   "metadata": {},
   "source": [
    "### Exploração inicial dos dados"
   ]
  },
  {
   "cell_type": "code",
   "execution_count": 2,
   "metadata": {},
   "outputs": [],
   "source": [
    "ab_df = pd.read_csv(\"data/ab_data.csv\")"
   ]
  },
  {
   "cell_type": "code",
   "execution_count": 3,
   "metadata": {},
   "outputs": [
    {
     "name": "stdout",
     "output_type": "stream",
     "text": [
      "<class 'pandas.core.frame.DataFrame'>\n",
      "RangeIndex: 294478 entries, 0 to 294477\n",
      "Data columns (total 5 columns):\n",
      " #   Column        Non-Null Count   Dtype \n",
      "---  ------        --------------   ----- \n",
      " 0   user_id       294478 non-null  int64 \n",
      " 1   timestamp     294478 non-null  object\n",
      " 2   group         294478 non-null  object\n",
      " 3   landing_page  294478 non-null  object\n",
      " 4   converted     294478 non-null  int64 \n",
      "dtypes: int64(2), object(3)\n",
      "memory usage: 11.2+ MB\n"
     ]
    }
   ],
   "source": [
    "# Olhando os \n",
    "ab_df.info()"
   ]
  },
  {
   "cell_type": "code",
   "execution_count": 4,
   "metadata": {},
   "outputs": [
    {
     "data": {
      "text/html": [
       "<div>\n",
       "<style scoped>\n",
       "    .dataframe tbody tr th:only-of-type {\n",
       "        vertical-align: middle;\n",
       "    }\n",
       "\n",
       "    .dataframe tbody tr th {\n",
       "        vertical-align: top;\n",
       "    }\n",
       "\n",
       "    .dataframe thead th {\n",
       "        text-align: right;\n",
       "    }\n",
       "</style>\n",
       "<table border=\"1\" class=\"dataframe\">\n",
       "  <thead>\n",
       "    <tr style=\"text-align: right;\">\n",
       "      <th></th>\n",
       "      <th>user_id</th>\n",
       "      <th>timestamp</th>\n",
       "      <th>group</th>\n",
       "      <th>landing_page</th>\n",
       "      <th>converted</th>\n",
       "    </tr>\n",
       "  </thead>\n",
       "  <tbody>\n",
       "    <tr>\n",
       "      <th>0</th>\n",
       "      <td>851104</td>\n",
       "      <td>2017-01-21 22:11:48.556739</td>\n",
       "      <td>control</td>\n",
       "      <td>old_page</td>\n",
       "      <td>0</td>\n",
       "    </tr>\n",
       "    <tr>\n",
       "      <th>1</th>\n",
       "      <td>804228</td>\n",
       "      <td>2017-01-12 08:01:45.159739</td>\n",
       "      <td>control</td>\n",
       "      <td>old_page</td>\n",
       "      <td>0</td>\n",
       "    </tr>\n",
       "    <tr>\n",
       "      <th>2</th>\n",
       "      <td>661590</td>\n",
       "      <td>2017-01-11 16:55:06.154213</td>\n",
       "      <td>treatment</td>\n",
       "      <td>new_page</td>\n",
       "      <td>0</td>\n",
       "    </tr>\n",
       "  </tbody>\n",
       "</table>\n",
       "</div>"
      ],
      "text/plain": [
       "   user_id                   timestamp      group landing_page  converted\n",
       "0   851104  2017-01-21 22:11:48.556739    control     old_page          0\n",
       "1   804228  2017-01-12 08:01:45.159739    control     old_page          0\n",
       "2   661590  2017-01-11 16:55:06.154213  treatment     new_page          0"
      ]
     },
     "execution_count": 4,
     "metadata": {},
     "output_type": "execute_result"
    }
   ],
   "source": [
    "ab_df.head(3)"
   ]
  },
  {
   "cell_type": "code",
   "execution_count": 5,
   "metadata": {},
   "outputs": [
    {
     "data": {
      "text/plain": [
       "0"
      ]
     },
     "execution_count": 5,
     "metadata": {},
     "output_type": "execute_result"
    }
   ],
   "source": [
    "ab_df.duplicated().sum()"
   ]
  },
  {
   "cell_type": "code",
   "execution_count": 6,
   "metadata": {},
   "outputs": [
    {
     "data": {
      "text/plain": [
       "user_id         0\n",
       "timestamp       0\n",
       "group           0\n",
       "landing_page    0\n",
       "converted       0\n",
       "dtype: int64"
      ]
     },
     "execution_count": 6,
     "metadata": {},
     "output_type": "execute_result"
    }
   ],
   "source": [
    "ab_df.isnull().sum()"
   ]
  },
  {
   "cell_type": "code",
   "execution_count": 7,
   "metadata": {},
   "outputs": [
    {
     "name": "stdout",
     "output_type": "stream",
     "text": [
      "Conversion Rate Geral:  0.1197\n",
      "Conversion Rate Controle:  0.1204\n",
      "Conversion Rate Tratamento:  0.1189\n"
     ]
    }
   ],
   "source": [
    "conversion_rate_geral = ab_df['converted'].mean().round(4)\n",
    "conversion_rate_control = ab_df.query(\"group == 'control'\")['converted'].mean().round(4)\n",
    "conversion_rate_treatment = ab_df.query(\"group == 'treatment'\")['converted'].mean().round(4)\n",
    "\n",
    "print(\"Conversion Rate Geral: \", conversion_rate_geral)\n",
    "print(\"Conversion Rate Controle: \", conversion_rate_control)\n",
    "print(\"Conversion Rate Tratamento: \", conversion_rate_treatment)\n"
   ]
  },
  {
   "cell_type": "markdown",
   "metadata": {},
   "source": [
    "### Limpeza e Preparação dos dados"
   ]
  },
  {
   "cell_type": "code",
   "execution_count": 8,
   "metadata": {},
   "outputs": [
    {
     "data": {
      "text/plain": [
       "3894"
      ]
     },
     "execution_count": 8,
     "metadata": {},
     "output_type": "execute_result"
    }
   ],
   "source": [
    "### Verifica se há usuários duplicados\n",
    "ab_df['user_id'].duplicated().sum()"
   ]
  },
  {
   "cell_type": "code",
   "execution_count": 9,
   "metadata": {},
   "outputs": [],
   "source": [
    "### Cria lista com usuários duplicados (user_id)\n",
    "ids_duplicados = ab_df['user_id'].value_counts().sort_values()\n",
    "\n",
    "### Cria uma lista com os user_id com > 1 ocorrência\n",
    "ids_duplicados = ids_duplicados[ids_duplicados.values > 1].index "
   ]
  },
  {
   "cell_type": "code",
   "execution_count": 10,
   "metadata": {},
   "outputs": [],
   "source": [
    "### Cria novo dataframe sem os usuários duplicados\n",
    "ab_df_uniques = ab_df[ab_df[\"user_id\"].isin(ids_duplicados) == False]\n",
    "\n",
    "### Remove colunas desnecessárias\n",
    "ab_df_uniques = ab_df_uniques.drop(columns=\"timestamp\")"
   ]
  },
  {
   "attachments": {},
   "cell_type": "markdown",
   "metadata": {},
   "source": [
    "### Teste de distribuição dos buckets (SRM - Sample Ratio Missmatch)"
   ]
  },
  {
   "cell_type": "code",
   "execution_count": 11,
   "metadata": {},
   "outputs": [
    {
     "data": {
      "text/plain": [
       "treatment    143397\n",
       "control      143293\n",
       "Name: group, dtype: int64"
      ]
     },
     "execution_count": 11,
     "metadata": {},
     "output_type": "execute_result"
    }
   ],
   "source": [
    "### Checagem inicial do balanceamento dos buckets após o tratamento de duplicados\n",
    "ab_df_uniques['group'].value_counts()"
   ]
  },
  {
   "cell_type": "code",
   "execution_count": 12,
   "metadata": {},
   "outputs": [],
   "source": [
    "control_count = ab_df_uniques.query(\"group == 'control'\")['user_id'].count()\n",
    "treatment_count = ab_df_uniques.query(\"group == 'treatment'\")['user_id'].count()"
   ]
  },
  {
   "cell_type": "code",
   "execution_count": 13,
   "metadata": {},
   "outputs": [
    {
     "name": "stdout",
     "output_type": "stream",
     "text": [
      "Diff. Entre Buckets: -104\n",
      "Ratio: 0.9993\n",
      "Chi-square: 0.0377\n",
      "P-value: 0.8460\n",
      "O teste é válido: valor-p < 0.005.\n"
     ]
    }
   ],
   "source": [
    "srm_test(control_count, treatment_count, 0.005)"
   ]
  },
  {
   "cell_type": "markdown",
   "metadata": {},
   "source": [
    "### Teste estatístico"
   ]
  },
  {
   "cell_type": "code",
   "execution_count": 14,
   "metadata": {},
   "outputs": [
    {
     "data": {
      "text/html": [
       "<div>\n",
       "<style scoped>\n",
       "    .dataframe tbody tr th:only-of-type {\n",
       "        vertical-align: middle;\n",
       "    }\n",
       "\n",
       "    .dataframe tbody tr th {\n",
       "        vertical-align: top;\n",
       "    }\n",
       "\n",
       "    .dataframe thead th {\n",
       "        text-align: right;\n",
       "    }\n",
       "</style>\n",
       "<table border=\"1\" class=\"dataframe\">\n",
       "  <thead>\n",
       "    <tr style=\"text-align: right;\">\n",
       "      <th></th>\n",
       "      <th>converted</th>\n",
       "      <th>total</th>\n",
       "      <th>conversion_rate</th>\n",
       "    </tr>\n",
       "    <tr>\n",
       "      <th>group</th>\n",
       "      <th></th>\n",
       "      <th></th>\n",
       "      <th></th>\n",
       "    </tr>\n",
       "  </thead>\n",
       "  <tbody>\n",
       "    <tr>\n",
       "      <th>control</th>\n",
       "      <td>17220</td>\n",
       "      <td>143293</td>\n",
       "      <td>0.120173</td>\n",
       "    </tr>\n",
       "    <tr>\n",
       "      <th>treatment</th>\n",
       "      <td>17025</td>\n",
       "      <td>143397</td>\n",
       "      <td>0.118726</td>\n",
       "    </tr>\n",
       "  </tbody>\n",
       "</table>\n",
       "</div>"
      ],
      "text/plain": [
       "           converted   total  conversion_rate\n",
       "group                                        \n",
       "control        17220  143293         0.120173\n",
       "treatment      17025  143397         0.118726"
      ]
     },
     "execution_count": 14,
     "metadata": {},
     "output_type": "execute_result"
    }
   ],
   "source": [
    "ab_summary = ab_df_uniques.pivot_table(values='converted', index='group', aggfunc=np.sum)\n",
    "# add additional columns to the pivot table\n",
    "ab_summary['total'] = ab_df_uniques.pivot_table(values='converted', index='group', aggfunc=lambda x: len(x))\n",
    "ab_summary['conversion_rate'] = ab_df_uniques.pivot_table(values='converted', index='group')\n",
    "ab_summary"
   ]
  },
  {
   "cell_type": "code",
   "execution_count": 15,
   "metadata": {},
   "outputs": [
    {
     "name": "stdout",
     "output_type": "stream",
     "text": [
      "Chi-square statistic: 1.4131\n",
      "P-value: 0.2345\n",
      "Os grupos NÃO posuem conversões estatisticamente diferentes.\n"
     ]
    },
    {
     "data": {
      "image/png": "[encoded data removed]",
      "text/plain": [
       "<Figure size 640x480 with 1 Axes>"
      ]
     },
     "metadata": {},
     "output_type": "display_data"
    },
    {
     "data": {
      "text/html": [
       "<div>\n",
       "<style scoped>\n",
       "    .dataframe tbody tr th:only-of-type {\n",
       "        vertical-align: middle;\n",
       "    }\n",
       "\n",
       "    .dataframe tbody tr th {\n",
       "        vertical-align: top;\n",
       "    }\n",
       "\n",
       "    .dataframe thead th {\n",
       "        text-align: right;\n",
       "    }\n",
       "</style>\n",
       "<table border=\"1\" class=\"dataframe\">\n",
       "  <thead>\n",
       "    <tr style=\"text-align: right;\">\n",
       "      <th></th>\n",
       "      <th>Group</th>\n",
       "      <th>Mean Conversion Rate</th>\n",
       "      <th>Confidence Interval</th>\n",
       "    </tr>\n",
       "  </thead>\n",
       "  <tbody>\n",
       "    <tr>\n",
       "      <th>0</th>\n",
       "      <td>control</td>\n",
       "      <td>0.1202</td>\n",
       "      <td>[0.1185 (-1.40%), 0.1219 (1.40%)]</td>\n",
       "    </tr>\n",
       "    <tr>\n",
       "      <th>1</th>\n",
       "      <td>treatment</td>\n",
       "      <td>0.1187</td>\n",
       "      <td>[0.1171 (-1.41%), 0.1204 (1.41%)]</td>\n",
       "    </tr>\n",
       "  </tbody>\n",
       "</table>\n",
       "</div>"
      ],
      "text/plain": [
       "       Group  Mean Conversion Rate                Confidence Interval\n",
       "0    control                0.1202  [0.1185 (-1.40%), 0.1219 (1.40%)]\n",
       "1  treatment                0.1187  [0.1171 (-1.41%), 0.1204 (1.41%)]"
      ]
     },
     "execution_count": 15,
     "metadata": {},
     "output_type": "execute_result"
    }
   ],
   "source": [
    "perform_ab_test_analysis(ab_df_uniques)"
   ]
  },
  {
   "cell_type": "markdown",
   "metadata": {},
   "source": [
    "### Bootstrap "
   ]
  },
  {
   "cell_type": "code",
   "execution_count": 42,
   "metadata": {},
   "outputs": [
    {
     "data": {
      "image/png": "[encoded data removed]",
      "text/plain": [
       "<Figure size 640x480 with 1 Axes>"
      ]
     },
     "metadata": {},
     "output_type": "display_data"
    },
    {
     "name": "stdout",
     "output_type": "stream",
     "text": [
      "Bootstrap Diferença Observada: -0.0014\n",
      "p-value: 0.5020\n",
      "Os grupos NÃO posuem conversões estatisticamente diferentes.\n"
     ]
    },
    {
     "data": {
      "text/html": [
       "<div>\n",
       "<style scoped>\n",
       "    .dataframe tbody tr th:only-of-type {\n",
       "        vertical-align: middle;\n",
       "    }\n",
       "\n",
       "    .dataframe tbody tr th {\n",
       "        vertical-align: top;\n",
       "    }\n",
       "\n",
       "    .dataframe thead th {\n",
       "        text-align: right;\n",
       "    }\n",
       "</style>\n",
       "<table border=\"1\" class=\"dataframe\">\n",
       "  <thead>\n",
       "    <tr style=\"text-align: right;\">\n",
       "      <th></th>\n",
       "      <th>Group</th>\n",
       "      <th>Mean Conversion Rate</th>\n",
       "      <th>Confidence Interval</th>\n",
       "    </tr>\n",
       "  </thead>\n",
       "  <tbody>\n",
       "    <tr>\n",
       "      <th>0</th>\n",
       "      <td>control</td>\n",
       "      <td>0.1202</td>\n",
       "      <td>[0.1185 (-1.40%), 0.1219 (1.40%)]</td>\n",
       "    </tr>\n",
       "    <tr>\n",
       "      <th>1</th>\n",
       "      <td>treatment</td>\n",
       "      <td>0.1187</td>\n",
       "      <td>[0.1171 (-1.41%), 0.1204 (1.41%)]</td>\n",
       "    </tr>\n",
       "  </tbody>\n",
       "</table>\n",
       "</div>"
      ],
      "text/plain": [
       "       Group  Mean Conversion Rate                Confidence Interval\n",
       "0    control                0.1202  [0.1185 (-1.40%), 0.1219 (1.40%)]\n",
       "1  treatment                0.1187  [0.1171 (-1.41%), 0.1204 (1.41%)]"
      ]
     },
     "execution_count": 42,
     "metadata": {},
     "output_type": "execute_result"
    }
   ],
   "source": [
    "def get_obbs_diff(boot_sample):\n",
    "    control_sample = boot_sample[boot_sample['group'] == 'control']['converted']\n",
    "    treatment_sample = boot_sample[boot_sample['group'] == 'treatment']['converted']\n",
    "    boot_diff = treatment_sample.mean() - control_sample.mean()\n",
    "    return boot_diff, control_sample.mean(), treatment_sample.mean()\n",
    "\n",
    "def bootstrap_ab_test(ab_df_uniques, n_bootstraps=1000, confidence=0.95):\n",
    "    \"\"\"\n",
    "    Realiza o teste Bootstrap A/B para verificar se a diferença entre os grupos é estatisticamente diferente.\n",
    "\n",
    "    Parâmetros:\n",
    "        ab_df_uniques (DataFrame): DataFrame contendo os dados únicos do usuário com as colunas 'grupo' e 'convertido'.\n",
    "        n_bootstraps (int, opcional): Número de iterações de bootstrap. O padrão é 1000.\n",
    "        confiança (float, opcional): Nível de confiança para o cálculo do intervalo. O padrão é 0,95.\n",
    "\n",
    "    retorna:\n",
    "        Nada: a função plota a distribuição Bootstrap da diferença entre os grupos de tratamento e controle\n",
    "              e imprime o intervalo de confiança para as diferenças observadas.\n",
    "              Ele também imprime o valor-p e conclui se o teste é estatisticamente diferente ou não.\n",
    "    \"\"\"\n",
    "\n",
    "    boot_mean = []\n",
    "    control_mean = []\n",
    "    treatment_mean = []\n",
    "\n",
    "    # Bootstrap Sampling to get the test statistic distribution\n",
    "    for i in range(n_bootstraps):\n",
    "        boot_sample = ab_df_uniques.sample(frac=1, replace=True)\n",
    "        boot_diff, boot_mean_control, boot_mean_treatment = get_obbs_diff(boot_sample)\n",
    "        boot_mean.append(boot_diff)\n",
    "        control_mean.append(boot_mean_control)\n",
    "        treatment_mean.append(boot_mean_treatment)\n",
    "\n",
    "    # Calculate the confidence interval based on the desired percentage\n",
    "    confidence_interval = np.percentile(boot_mean, [(1 - confidence) * 100 / 2, (1 + confidence) * 100 / 2])\n",
    "\n",
    "    # Plota o gráfico normalizado das médias\n",
    "    bootstrap_plot = pd.DataFrame({\"controle\": control_mean, \"tratamento\": treatment_mean})\n",
    "    bootstrap_plot.plot(kind='kde')\n",
    "    plt.show()\n",
    "\n",
    "    \n",
    "    # Calcula as diferenças observadas\n",
    "    original_diff, original_mean_control, original_mean_treatment = get_obbs_diff(ab_df_uniques)\n",
    "\n",
    "    # Calcula as diferenças entre \n",
    "    p_value = np.mean(np.array(boot_mean) > original_diff)\n",
    "\n",
    "    print(f\"Bootstrap Diferença Observada: {original_diff:.4f}\")\n",
    "    print(f\"p-value: {p_value:.4f}\")\n",
    "\n",
    "    # Checa se o teste é valido de acordo com o valor p\n",
    "    if p_value < (1 - confidence):\n",
    "        print(\"Os grupos possuem conversões estatisticamente diferentes.\")\n",
    "    else:\n",
    "        print(\"Os grupos NÃO posuem conversões estatisticamente diferentes.\")\n"
   ]
  },
  {
   "cell_type": "code",
   "execution_count": null,
   "metadata": {},
   "outputs": [],
   "source": [
    "\n",
    "\n",
    "bootstrap_ab_test(ab_df_uniques)\n",
    "calculate_ci(ab_df_uniques, \"group\", \"converted\")"
   ]
  }
 ],
 "metadata": {
  "kernelspec": {
   "display_name": "Python 3",
   "language": "python",
   "name": "python3"
  },
  "language_info": {
   "codemirror_mode": {
    "name": "ipython",
    "version": 3
   },
   "file_extension": ".py",
   "mimetype": "text/x-python",
   "name": "python",
   "nbconvert_exporter": "python",
   "pygments_lexer": "ipython3",
   "version": "3.10.11"
  },
  "orig_nbformat": 4
 },
 "nbformat": 4,
 "nbformat_minor": 2
}
